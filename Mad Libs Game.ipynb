{
 "cells": [
  {
   "cell_type": "code",
   "execution_count": 1,
   "metadata": {},
   "outputs": [
    {
     "name": "stdout",
     "output_type": "stream",
     "text": [
      "Welcome to our game:\n",
      "Enter a color: Red\n",
      "Enter somthing:  Blue\n",
      "Enter a name: Tom\n",
      "Roses are Red\n",
      "violates are Blue\n",
      "I love Tom\n"
     ]
    }
   ],
   "source": [
    "print(\"Welcome to our game:\")\n",
    "color= input(\"Enter a color: \")\n",
    "progga= input(\"Enter somthing:  \")\n",
    "name= input(\"Enter a name: \")\n",
    "\n",
    "print(\"Roses are\", color)\n",
    "print(\"violates are\", progga )\n",
    "print(\"I love\", name)"
   ]
  },
  {
   "cell_type": "code",
   "execution_count": null,
   "metadata": {},
   "outputs": [],
   "source": []
  }
 ],
 "metadata": {
  "kernelspec": {
   "display_name": "Python 3",
   "language": "python",
   "name": "python3"
  },
  "language_info": {
   "codemirror_mode": {
    "name": "ipython",
    "version": 3
   },
   "file_extension": ".py",
   "mimetype": "text/x-python",
   "name": "python",
   "nbconvert_exporter": "python",
   "pygments_lexer": "ipython3",
   "version": "3.7.6"
  }
 },
 "nbformat": 4,
 "nbformat_minor": 4
}
